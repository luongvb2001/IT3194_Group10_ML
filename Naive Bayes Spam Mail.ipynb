{
 "cells": [
  {
   "cell_type": "code",
   "execution_count": 7,
   "metadata": {},
   "outputs": [],
   "source": [
    "import pandas as pd\n",
    "import numpy as np\n",
    "import nltk\n",
    "from nltk.corpus import stopwords\n",
    "import re\n",
    "import string\n",
    "from typing import Counter\n",
    "from NBClassifier import NBClassifier\n",
    "\n",
    "from sklearn.linear_model import LogisticRegression\n",
    "from sklearn.svm import SVC\n",
    "from sklearn.ensemble import RandomForestClassifier\n",
    "from sklearn.naive_bayes import MultinomialNB"
   ]
  },
  {
   "cell_type": "markdown",
   "metadata": {},
   "source": [
    "Lấy dữ liệu từ file csv"
   ]
  },
  {
   "cell_type": "code",
   "execution_count": 8,
   "metadata": {},
   "outputs": [
    {
     "name": "stdout",
     "output_type": "stream",
     "text": [
      "(5572, 2)\n"
     ]
    },
    {
     "data": {
      "text/html": [
       "<div>\n",
       "<style scoped>\n",
       "    .dataframe tbody tr th:only-of-type {\n",
       "        vertical-align: middle;\n",
       "    }\n",
       "\n",
       "    .dataframe tbody tr th {\n",
       "        vertical-align: top;\n",
       "    }\n",
       "\n",
       "    .dataframe thead th {\n",
       "        text-align: right;\n",
       "    }\n",
       "</style>\n",
       "<table border=\"1\" class=\"dataframe\">\n",
       "  <thead>\n",
       "    <tr style=\"text-align: right;\">\n",
       "      <th></th>\n",
       "      <th>Label</th>\n",
       "      <th>Mail</th>\n",
       "    </tr>\n",
       "  </thead>\n",
       "  <tbody>\n",
       "    <tr>\n",
       "      <th>0</th>\n",
       "      <td>0</td>\n",
       "      <td>Go until jurong point, crazy.. Available only ...</td>\n",
       "    </tr>\n",
       "    <tr>\n",
       "      <th>1</th>\n",
       "      <td>0</td>\n",
       "      <td>Ok lar... Joking wif u oni...</td>\n",
       "    </tr>\n",
       "    <tr>\n",
       "      <th>2</th>\n",
       "      <td>1</td>\n",
       "      <td>Free entry in 2 a wkly comp to win FA Cup fina...</td>\n",
       "    </tr>\n",
       "    <tr>\n",
       "      <th>3</th>\n",
       "      <td>0</td>\n",
       "      <td>U dun say so early hor... U c already then say...</td>\n",
       "    </tr>\n",
       "    <tr>\n",
       "      <th>4</th>\n",
       "      <td>0</td>\n",
       "      <td>Nah I don't think he goes to usf, he lives aro...</td>\n",
       "    </tr>\n",
       "  </tbody>\n",
       "</table>\n",
       "</div>"
      ],
      "text/plain": [
       "   Label                                               Mail\n",
       "0      0  Go until jurong point, crazy.. Available only ...\n",
       "1      0                      Ok lar... Joking wif u oni...\n",
       "2      1  Free entry in 2 a wkly comp to win FA Cup fina...\n",
       "3      0  U dun say so early hor... U c already then say...\n",
       "4      0  Nah I don't think he goes to usf, he lives aro..."
      ]
     },
     "execution_count": 8,
     "metadata": {},
     "output_type": "execute_result"
    }
   ],
   "source": [
    "df = pd.read_csv('SMSSpamCollection',sep='\\t',header=None)\n",
    "df.columns = ['Label', 'Mail']\n",
    "df['Label'] = df['Label'].replace(['spam'],1)\n",
    "df['Label'] = df['Label'].replace(['ham'],0)\n",
    "\n",
    "# df = pd.read_csv('Emails.csv')\n",
    "# df.columns = ['Label', 'Mail']\n",
    "print(df.shape)\n",
    "df.head()\n"
   ]
  },
  {
   "cell_type": "markdown",
   "metadata": {},
   "source": [
    "Loại bỏ các mail trùng lặp"
   ]
  },
  {
   "cell_type": "code",
   "execution_count": 9,
   "metadata": {},
   "outputs": [
    {
     "name": "stdout",
     "output_type": "stream",
     "text": [
      "(5169, 2)\n"
     ]
    }
   ],
   "source": [
    "df.drop_duplicates(inplace = True)\n",
    "print(df.shape)"
   ]
  },
  {
   "cell_type": "markdown",
   "metadata": {},
   "source": [
    "Tách dataframe thành 2 tập train và test"
   ]
  },
  {
   "cell_type": "code",
   "execution_count": 10,
   "metadata": {},
   "outputs": [
    {
     "name": "stdout",
     "output_type": "stream",
     "text": [
      "(4135, 2)\n",
      "(1034, 2)\n"
     ]
    }
   ],
   "source": [
    "randomized = df.sample(frac=1)\n",
    "train_size = round(len(randomized) * 0.8)\n",
    "train = randomized[:train_size].reset_index(drop=True)\n",
    "test = randomized[train_size:].reset_index(drop=True)\n",
    "print(train.shape)\n",
    "print(test.shape)"
   ]
  },
  {
   "cell_type": "markdown",
   "metadata": {},
   "source": [
    "Hàm tiền xử lý dữ liệu bao gồm: xóa các đường dẫn, xóa dấu câu, xóa các stopword"
   ]
  },
  {
   "cell_type": "code",
   "execution_count": 11,
   "metadata": {},
   "outputs": [],
   "source": [
    "def process_text(text):\n",
    "    text = re.sub(r'http\\S+', '', text)\n",
    "    nopunc = [char for char in text if char not in string.punctuation]\n",
    "    nopunc = ''.join(nopunc)\n",
    "    \n",
    "    text = [word for word in nopunc.split() if word.lower() not in stopwords.words('english')]\n",
    "    \n",
    "    return text"
   ]
  },
  {
   "cell_type": "markdown",
   "metadata": {},
   "source": [
    "Xử lí tập train, test thành vector"
   ]
  },
  {
   "cell_type": "code",
   "execution_count": 12,
   "metadata": {},
   "outputs": [],
   "source": [
    "bag_word = []\n",
    "testmails= test['Mail']\n",
    "test_labels = test['Label']\n",
    "testmails2 = []\n",
    "trainmails = train['Mail']\n",
    "train_labels = train['Label']\n",
    "trainmails2= []\n",
    "\n",
    "testmails = testmails.apply(process_text)\n",
    "trainmails = trainmails.apply(process_text)\n",
    "\n",
    "\n",
    "\n",
    "\n",
    "for doc in trainmails:\n",
    "    words = doc\n",
    "    bag_word += words\n",
    "\n",
    "bag_word = set(bag_word)\n",
    "bag_word = list(bag_word)\n",
    "\n",
    "def tovector(mail):   \n",
    "    splitmail = mail\n",
    "    mvec = np.zeros(len(bag_word))\n",
    "    count = Counter(splitmail)\n",
    "    for i, word in enumerate(bag_word):\n",
    "                mvec[i]+=count[word]\n",
    "    \n",
    "    return mvec\n",
    "\n",
    "for i,mail in enumerate(testmails):\n",
    "\n",
    "    testmails2.append(tovector(mail))\n",
    "\n",
    "for i,mail in enumerate(trainmails):\n",
    "\n",
    "    trainmails2.append(tovector(mail))\n",
    "\n",
    "d = {'Mail': trainmails2, 'Label': train_labels}\n",
    "Trainingdata = pd.DataFrame(data=d)\n",
    "d = {'Mail': testmails2, 'Label': test_labels}\n",
    "Testdata = pd.DataFrame(data=d)\n",
    "\n"
   ]
  },
  {
   "cell_type": "markdown",
   "metadata": {},
   "source": [
    "Lọc thư rác bằng mô hình Naive Bayes (không dùng thư viện)"
   ]
  },
  {
   "cell_type": "code",
   "execution_count": 13,
   "metadata": {},
   "outputs": [
    {
     "data": {
      "text/plain": [
       "0.9777562862669246"
      ]
     },
     "execution_count": 13,
     "metadata": {},
     "output_type": "execute_result"
    }
   ],
   "source": [
    "model= NBClassifier()\n",
    "model.fit(Trainingdata['Mail'],Trainingdata['Label'])\n",
    "result = model.predict(Testdata)\n",
    "\n",
    "model.score(Testdata)"
   ]
  },
  {
   "cell_type": "code",
   "execution_count": 14,
   "metadata": {},
   "outputs": [],
   "source": [
    "trainingmails = list(Trainingdata['Mail'])\n",
    "traininglabels= list(Trainingdata['Label'])\n",
    "testmails=list(Testdata['Mail'])\n",
    "testlabels= list(Testdata['Label'])"
   ]
  },
  {
   "cell_type": "markdown",
   "metadata": {},
   "source": [
    "Lọc thư rác bằng mô hình Naive Bayes (có dùng thư viện)"
   ]
  },
  {
   "cell_type": "code",
   "execution_count": 15,
   "metadata": {},
   "outputs": [
    {
     "data": {
      "text/plain": [
       "0.9777562862669246"
      ]
     },
     "execution_count": 15,
     "metadata": {},
     "output_type": "execute_result"
    }
   ],
   "source": [
    "model1 = MultinomialNB()\n",
    "model1.fit(trainingmails,traininglabels)\n",
    "result1 = model1.predict(testmails)\n",
    "model1.score(testmails,testlabels)"
   ]
  },
  {
   "cell_type": "markdown",
   "metadata": {},
   "source": [
    "Lọc thư rác bằng mô hình Logistic Regression"
   ]
  },
  {
   "cell_type": "code",
   "execution_count": 16,
   "metadata": {},
   "outputs": [
    {
     "data": {
      "text/plain": [
       "0.9748549323017408"
      ]
     },
     "execution_count": 16,
     "metadata": {},
     "output_type": "execute_result"
    }
   ],
   "source": [
    "model2 = LogisticRegression()\n",
    "model2.fit(trainingmails,traininglabels)\n",
    "result2 = model2.predict(testmails)\n",
    "model2.score(testmails,testlabels)"
   ]
  },
  {
   "cell_type": "markdown",
   "metadata": {},
   "source": [
    "Lọc thư rác bằng mô hình SVC"
   ]
  },
  {
   "cell_type": "code",
   "execution_count": 17,
   "metadata": {},
   "outputs": [
    {
     "data": {
      "text/plain": [
       "0.9806576402321083"
      ]
     },
     "execution_count": 17,
     "metadata": {},
     "output_type": "execute_result"
    }
   ],
   "source": [
    "model3 = SVC(kernel = 'linear')\n",
    "model3.fit(trainingmails,traininglabels)\n",
    "result3 = model3.predict(testmails)\n",
    "model3.score(testmails,testlabels)"
   ]
  },
  {
   "cell_type": "markdown",
   "metadata": {},
   "source": [
    "Lọc thư rác bằng mô hình Random Forest"
   ]
  },
  {
   "cell_type": "code",
   "execution_count": 18,
   "metadata": {},
   "outputs": [
    {
     "data": {
      "text/plain": [
       "0.9709864603481625"
      ]
     },
     "execution_count": 18,
     "metadata": {},
     "output_type": "execute_result"
    }
   ],
   "source": [
    "model4=RandomForestClassifier(n_estimators=100)\n",
    "model4.fit(trainingmails,traininglabels)\n",
    "result4 = model4.predict(testmails)\n",
    "model4.score(testmails,testlabels)"
   ]
  }
 ],
 "metadata": {
  "kernelspec": {
   "display_name": "Python 3.10.0 64-bit",
   "language": "python",
   "name": "python3"
  },
  "language_info": {
   "codemirror_mode": {
    "name": "ipython",
    "version": 3
   },
   "file_extension": ".py",
   "mimetype": "text/x-python",
   "name": "python",
   "nbconvert_exporter": "python",
   "pygments_lexer": "ipython3",
   "version": "3.10.0"
  },
  "orig_nbformat": 4,
  "vscode": {
   "interpreter": {
    "hash": "3d8af5bebe0a66c518b18ab88efd4e86f7e9eb314d9019346ae842ac913951e4"
   }
  }
 },
 "nbformat": 4,
 "nbformat_minor": 2
}
